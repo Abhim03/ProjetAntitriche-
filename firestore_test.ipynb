{
 "cells": [
  {
   "cell_type": "code",
   "execution_count": 1,
   "metadata": {},
   "outputs": [],
   "source": [
    "from pathlib import Path\n",
    "\n",
    "from firestore_db import FirestoreDB\n",
    "\n",
    "firestore_certif = Path(\"antitriche-firebase-adminsdk.json\")\n",
    "\n",
    "if firestore_certif.exists():\n",
    "    db = FirestoreDB(firestore_certif.name)\n",
    "\n",
    "else:\n",
    "    print(\n",
    "        f\"Le fichier {firestore_certif} n'existe pas.\\n\"\n",
    "        \"Veuillez le télécharger et le placer dans le dossier courant.\"\n",
    "    )\n"
   ]
  },
  {
   "cell_type": "code",
   "execution_count": 2,
   "metadata": {},
   "outputs": [],
   "source": [
    "response = {\"model\": \"ChatGPT\", \"text\": \"Hello, world!\"}\n",
    "\n",
    "db.set_data(\"test_collection\", \"hello_world\", response)"
   ]
  },
  {
   "cell_type": "code",
   "execution_count": 3,
   "metadata": {},
   "outputs": [
    {
     "name": "stdout",
     "output_type": "stream",
     "text": [
      "hello_world : {'model': 'ChatGPT', 'text': 'Hello, world!'}\n"
     ]
    }
   ],
   "source": [
    "db.print(\"test_collection\")"
   ]
  }
 ],
 "metadata": {
  "kernelspec": {
   "display_name": ".venv",
   "language": "python",
   "name": "python3"
  },
  "language_info": {
   "codemirror_mode": {
    "name": "ipython",
    "version": 3
   },
   "file_extension": ".py",
   "mimetype": "text/x-python",
   "name": "python",
   "nbconvert_exporter": "python",
   "pygments_lexer": "ipython3",
   "version": "3.11.6"
  }
 },
 "nbformat": 4,
 "nbformat_minor": 2
}
